{
 "cells": [
  {
   "cell_type": "code",
   "execution_count": 3,
   "id": "6e734972-b922-41a4-b3fd-ddbb6e46b630",
   "metadata": {
    "tags": []
   },
   "outputs": [],
   "source": [
    "class university:\n",
    "    def __init__(self, name,email):\n",
    "        self.name = name\n",
    "        self.email = email\n",
    "        \n",
    "    def student_details(self):\n",
    "        print(self.name,self.email)\n",
    "    "
   ]
  },
  {
   "cell_type": "code",
   "execution_count": 4,
   "id": "1ce293ab-f6be-4aa2-939e-06b5f14e404a",
   "metadata": {
    "tags": []
   },
   "outputs": [],
   "source": [
    "kuld = university(\"Kuldeep\",\"kuldeepmahi.2349@gmail.com\")"
   ]
  },
  {
   "cell_type": "code",
   "execution_count": 6,
   "id": "5cbecf1b-0113-4399-bc1f-5fc2a6c0d60f",
   "metadata": {
    "tags": []
   },
   "outputs": [
    {
     "data": {
      "text/plain": [
       "'Kuldeep'"
      ]
     },
     "execution_count": 6,
     "metadata": {},
     "output_type": "execute_result"
    }
   ],
   "source": [
    "kuld.name"
   ]
  },
  {
   "cell_type": "code",
   "execution_count": 7,
   "id": "d3839695-0607-425d-b4fc-20c35b752dcd",
   "metadata": {
    "tags": []
   },
   "outputs": [
    {
     "data": {
      "text/plain": [
       "'kuldeepmahi.2349@gmail.com'"
      ]
     },
     "execution_count": 7,
     "metadata": {},
     "output_type": "execute_result"
    }
   ],
   "source": [
    "kuld.email"
   ]
  },
  {
   "cell_type": "code",
   "execution_count": 9,
   "id": "824bdedd-ce6b-4559-b4b5-a369a12b0d73",
   "metadata": {
    "tags": []
   },
   "outputs": [
    {
     "name": "stdout",
     "output_type": "stream",
     "text": [
      "Kuldeep kuldeepmahi.2349@gmail.com\n"
     ]
    }
   ],
   "source": [
    "kuld.student_details()"
   ]
  },
  {
   "cell_type": "markdown",
   "id": "0a3ef11e-a69d-47dc-833b-8cfb27475d56",
   "metadata": {},
   "source": [
    "write in different class means without objects"
   ]
  },
  {
   "cell_type": "code",
   "execution_count": 11,
   "id": "f6910b63-5894-4710-8c8d-fd54e0f6b217",
   "metadata": {
    "tags": []
   },
   "outputs": [],
   "source": [
    "class university:\n",
    "    def __init__(self, name,email):\n",
    "        self.name = name\n",
    "        self.email = email\n",
    "        \n",
    "    @classmethod\n",
    "    def details(cls,name,email):\n",
    "        return cls(name,email)\n",
    "        \n",
    "    \n",
    "        \n",
    "    def student_details(self):\n",
    "        print(self.name,self.email)\n",
    "    "
   ]
  },
  {
   "cell_type": "code",
   "execution_count": 14,
   "id": "9ee7f8b2-7323-4027-90c4-b62a1ce8fdaf",
   "metadata": {
    "tags": []
   },
   "outputs": [],
   "source": [
    "kuld=university.details(\"Abhay\",\"abhay@2349.gmail.com\")"
   ]
  },
  {
   "cell_type": "code",
   "execution_count": 15,
   "id": "e3db3e11-bb81-4cf0-962a-d23c64f0db56",
   "metadata": {
    "tags": []
   },
   "outputs": [
    {
     "data": {
      "text/plain": [
       "'Abhay'"
      ]
     },
     "execution_count": 15,
     "metadata": {},
     "output_type": "execute_result"
    }
   ],
   "source": [
    "kuld.name"
   ]
  },
  {
   "cell_type": "code",
   "execution_count": 16,
   "id": "2d94ce56-b1a3-489d-840a-2c779fce64b4",
   "metadata": {
    "tags": []
   },
   "outputs": [
    {
     "data": {
      "text/plain": [
       "'abhay@2349.gmail.com'"
      ]
     },
     "execution_count": 16,
     "metadata": {},
     "output_type": "execute_result"
    }
   ],
   "source": [
    "kuld.email"
   ]
  },
  {
   "cell_type": "code",
   "execution_count": 17,
   "id": "a8f55223-265e-443b-857f-d57403145b5d",
   "metadata": {
    "tags": []
   },
   "outputs": [
    {
     "name": "stdout",
     "output_type": "stream",
     "text": [
      "Abhay abhay@2349.gmail.com\n"
     ]
    }
   ],
   "source": [
    "kuld.student_details()"
   ]
  },
  {
   "cell_type": "code",
   "execution_count": 41,
   "id": "4c42cb61-e7dc-4f53-b293-9526e93704a0",
   "metadata": {
    "tags": []
   },
   "outputs": [],
   "source": [
    "class university2:\n",
    "    \n",
    "    mobile_num = 9451858733\n",
    "    def __init__(self, name,email):\n",
    "        self.name = name\n",
    "        self.email = email\n",
    "        \n",
    "    @classmethod\n",
    "    def change_number(cls,mobile):\n",
    "        university2.mobile_num = mobile\n",
    "        \n",
    "        \n",
    "        \n",
    "    @classmethod\n",
    "    def details(clss,name,email):\n",
    "        return cls(name,email)\n",
    "        \n",
    "    def student_details(self):\n",
    "        print(self.name,self.email,university2.mobile_num)\n",
    "    "
   ]
  },
  {
   "cell_type": "code",
   "execution_count": 42,
   "id": "4ab15717-5afb-4b48-ae4a-993375182a92",
   "metadata": {
    "tags": []
   },
   "outputs": [],
   "source": [
    "pw_obj = university2(\"kuldeep\", \"kuldeep@gmail.com\")"
   ]
  },
  {
   "cell_type": "code",
   "execution_count": 43,
   "id": "2deaceba-03c1-4b4a-8768-285c2025fe6b",
   "metadata": {
    "tags": []
   },
   "outputs": [
    {
     "name": "stdout",
     "output_type": "stream",
     "text": [
      "kuldeep kuldeep@gmail.com 9451858733\n"
     ]
    }
   ],
   "source": [
    "pw_obj.student_details()"
   ]
  },
  {
   "cell_type": "code",
   "execution_count": 45,
   "id": "c44866f7-d651-4d20-b45e-654005941ae6",
   "metadata": {
    "tags": []
   },
   "outputs": [
    {
     "data": {
      "text/plain": [
       "9451858733"
      ]
     },
     "execution_count": 45,
     "metadata": {},
     "output_type": "execute_result"
    }
   ],
   "source": [
    "university2.mobile_num"
   ]
  },
  {
   "cell_type": "code",
   "execution_count": 46,
   "id": "2caf89c8-2818-4875-aa28-4a8898b472a7",
   "metadata": {
    "tags": []
   },
   "outputs": [],
   "source": [
    "university2.change_number(6390450176)"
   ]
  },
  {
   "cell_type": "code",
   "execution_count": 47,
   "id": "7f441785-5ffa-4d8a-a561-03c1b16a5515",
   "metadata": {
    "tags": []
   },
   "outputs": [
    {
     "data": {
      "text/plain": [
       "6390450176"
      ]
     },
     "execution_count": 47,
     "metadata": {},
     "output_type": "execute_result"
    }
   ],
   "source": [
    "university2.mobile_num"
   ]
  },
  {
   "cell_type": "code",
   "execution_count": 48,
   "id": "64c9ecf4-4380-4eb7-b52d-a9d23232f3ec",
   "metadata": {
    "tags": []
   },
   "outputs": [],
   "source": [
    "class university3:\n",
    "    \n",
    "    mobile_num = 9451858733\n",
    "    def __init__(self, name,email):\n",
    "        self.name = name\n",
    "        self.email = email\n",
    "        \n",
    "    @classmethod\n",
    "    def change_number(cls,mobile):\n",
    "        university2.mobile_num = mobile\n",
    "        \n",
    "        \n",
    "        \n",
    "    @classmethod\n",
    "    def details(clss,name,email):\n",
    "        return cls(name,email)\n",
    "        \n",
    "    def student_details(self):\n",
    "        print(self.name,self.email,university2.mobile_num)\n",
    "    "
   ]
  },
  {
   "cell_type": "code",
   "execution_count": 49,
   "id": "85a431cb-e534-46fd-ad87-7f7ae5618583",
   "metadata": {
    "tags": []
   },
   "outputs": [],
   "source": [
    "def course_details(cls, course_name):\n",
    "    print(\"course name\",course_name)"
   ]
  },
  {
   "cell_type": "code",
   "execution_count": 50,
   "id": "1fbbb35a-e8c9-4b6a-8e88-78eb879b00d0",
   "metadata": {
    "tags": []
   },
   "outputs": [],
   "source": [
    "university3.course_details = classmethod(course_details)"
   ]
  },
  {
   "cell_type": "code",
   "execution_count": 51,
   "id": "2cedbf89-2115-41f4-8ea9-babc9f8bb7ee",
   "metadata": {
    "tags": []
   },
   "outputs": [
    {
     "name": "stdout",
     "output_type": "stream",
     "text": [
      "course name Data science\n"
     ]
    }
   ],
   "source": [
    "university3.course_details(\"Data science\")"
   ]
  },
  {
   "cell_type": "code",
   "execution_count": 52,
   "id": "697eff29-74cd-48ee-9260-0c1c83aca9a1",
   "metadata": {
    "tags": []
   },
   "outputs": [],
   "source": [
    "def mentor(cls,list_of_mentor):\n",
    "    print(list_of_mentor)"
   ]
  },
  {
   "cell_type": "code",
   "execution_count": 53,
   "id": "cf10fc73-e10e-4ef5-8194-7920bcc442f7",
   "metadata": {
    "tags": []
   },
   "outputs": [],
   "source": [
    "university3.mentor = classmethod(mentor)"
   ]
  },
  {
   "cell_type": "code",
   "execution_count": 54,
   "id": "7ed59e8c-5f8a-4569-a262-820b1de72db7",
   "metadata": {
    "tags": []
   },
   "outputs": [
    {
     "name": "stdout",
     "output_type": "stream",
     "text": [
      "['kuldeep', 'Abhay']\n"
     ]
    }
   ],
   "source": [
    "university3.mentor([\"kuldeep\",\"Abhay\"])"
   ]
  },
  {
   "cell_type": "code",
   "execution_count": 63,
   "id": "43d47822-808f-4aa6-a37c-2aea205143fa",
   "metadata": {
    "tags": []
   },
   "outputs": [],
   "source": [
    "class university4:\n",
    "    \n",
    "    mobile_num = 9451858733\n",
    "    def __init__(self, name,email):\n",
    "        self.name = name\n",
    "        self.email = email\n",
    "        \n",
    "    @classmethod\n",
    "    def change_number(cls,mobile):\n",
    "        university2.mobile_num = mobile\n",
    "        \n",
    "        \n",
    "        \n",
    "    @classmethod\n",
    "    def details(clss,name,email):\n",
    "        return cls(name,email)\n",
    "        \n",
    "    def student_details(self):\n",
    "        print(self.name,self.email,university2.mobile_num)\n",
    "    "
   ]
  },
  {
   "cell_type": "code",
   "execution_count": null,
   "id": "1995c489-80c9-4dd4-b5c8-b9133896d66c",
   "metadata": {},
   "outputs": [],
   "source": [
    "del university4.change_number"
   ]
  },
  {
   "cell_type": "code",
   "execution_count": null,
   "id": "7d7747c1-5468-4937-acf9-53d36d8e831f",
   "metadata": {},
   "outputs": [],
   "source": [
    " university2.mobile_num"
   ]
  },
  {
   "cell_type": "code",
   "execution_count": null,
   "id": "1d678e59-fe87-45f3-8bf5-84ec4e17ccfc",
   "metadata": {},
   "outputs": [],
   "source": [
    "delattr(university4, \"details\")"
   ]
  },
  {
   "cell_type": "code",
   "execution_count": null,
   "id": "1c3ff182-9c6d-487c-81a0-92d84b3b519a",
   "metadata": {},
   "outputs": [],
   "source": [
    "delattr(university4, \"student_details\")"
   ]
  },
  {
   "cell_type": "code",
   "execution_count": null,
   "id": "8802a023-a8de-4c28-b4e6-d0b54e23d7aa",
   "metadata": {},
   "outputs": [],
   "source": []
  }
 ],
 "metadata": {
  "kernelspec": {
   "display_name": "Python 3 (ipykernel)",
   "language": "python",
   "name": "python3"
  },
  "language_info": {
   "codemirror_mode": {
    "name": "ipython",
    "version": 3
   },
   "file_extension": ".py",
   "mimetype": "text/x-python",
   "name": "python",
   "nbconvert_exporter": "python",
   "pygments_lexer": "ipython3",
   "version": "3.11.5"
  }
 },
 "nbformat": 4,
 "nbformat_minor": 5
}
